{
  "nbformat": 4,
  "nbformat_minor": 0,
  "metadata": {
    "colab": {
      "name": "234_2_HowToHandleDeque.ipynb",
      "provenance": []
    },
    "kernelspec": {
      "name": "python3",
      "display_name": "Python 3"
    }
  },
  "cells": [
    {
      "cell_type": "markdown",
      "metadata": {
        "id": "V4a9_UKCS25g"
      },
      "source": [
        "리스트나 큐나 모든 데이터의 삽입 방향은 오른쪽에서 왼쪽이다.\n",
        "\n",
        "데크의 동작방식은 리스트와 동일하며, 양방향성을 가진 큐의 상태라고 생각하면 된다."
      ]
    },
    {
      "cell_type": "code",
      "metadata": {
        "id": "28Gjh7k6Sv3q"
      },
      "source": [
        "import collections\n",
        "\n",
        "data1 = ['a', 'b', 'c', 'd']\n",
        "data2 = [1,2,3,4]"
      ],
      "execution_count": 2,
      "outputs": []
    },
    {
      "cell_type": "code",
      "metadata": {
        "id": "9YjLlY5kUDYV"
      },
      "source": [
        "dequedata1 = collections.deque(data1)\n",
        "dequedata2 = collections.deque(data2)"
      ],
      "execution_count": 3,
      "outputs": []
    },
    {
      "cell_type": "code",
      "metadata": {
        "colab": {
          "base_uri": "https://localhost:8080/"
        },
        "id": "mnBsbj9nUKNo",
        "outputId": "574ce56f-681d-4fa3-c593-8852c3a60052"
      },
      "source": [
        "print(dequedata1)"
      ],
      "execution_count": 4,
      "outputs": [
        {
          "output_type": "stream",
          "text": [
            "deque(['a', 'b', 'c', 'd'])\n"
          ],
          "name": "stdout"
        }
      ]
    },
    {
      "cell_type": "code",
      "metadata": {
        "colab": {
          "base_uri": "https://localhost:8080/"
        },
        "id": "KlyvdzeyUMuU",
        "outputId": "d92d5d64-013c-4af6-9233-54a6723cbb32"
      },
      "source": [
        "print(dequedata2)"
      ],
      "execution_count": 5,
      "outputs": [
        {
          "output_type": "stream",
          "text": [
            "deque([1, 2, 3, 4])\n"
          ],
          "name": "stdout"
        }
      ]
    },
    {
      "cell_type": "code",
      "metadata": {
        "colab": {
          "base_uri": "https://localhost:8080/"
        },
        "id": "HPnvGipHUN9G",
        "outputId": "88df7b2f-b44b-4aba-95dc-84d98a828dd6"
      },
      "source": [
        "# 데크 사이즈 고정, a,b가 밀려나감\n",
        "dequedata1 = collections.deque(data1, maxlen=2)\n",
        "print(dequedata1)"
      ],
      "execution_count": 10,
      "outputs": [
        {
          "output_type": "stream",
          "text": [
            "deque(['c', 'd'], maxlen=2)\n"
          ],
          "name": "stdout"
        }
      ]
    },
    {
      "cell_type": "code",
      "metadata": {
        "colab": {
          "base_uri": "https://localhost:8080/"
        },
        "id": "7TUG2nadVMCm",
        "outputId": "7fdd2a9c-931d-40eb-f8cc-070655baf51f"
      },
      "source": [
        "dequedata = collections.deque(data1)\n",
        "dequedata"
      ],
      "execution_count": 11,
      "outputs": [
        {
          "output_type": "execute_result",
          "data": {
            "text/plain": [
              "deque(['a', 'b', 'c', 'd'])"
            ]
          },
          "metadata": {
            "tags": []
          },
          "execution_count": 11
        }
      ]
    },
    {
      "cell_type": "code",
      "metadata": {
        "colab": {
          "base_uri": "https://localhost:8080/"
        },
        "id": "dtYA17fEV7Aw",
        "outputId": "30ca8e69-726d-4162-a2f9-94c4a9ee8e65"
      },
      "source": [
        "dequedata.append('e')\n",
        "dequedata"
      ],
      "execution_count": 13,
      "outputs": [
        {
          "output_type": "execute_result",
          "data": {
            "text/plain": [
              "deque(['a', 'b', 'c', 'd', 'e', 'e'])"
            ]
          },
          "metadata": {
            "tags": []
          },
          "execution_count": 13
        }
      ]
    },
    {
      "cell_type": "code",
      "metadata": {
        "colab": {
          "base_uri": "https://localhost:8080/"
        },
        "id": "LkDhZHEjWAhh",
        "outputId": "1262a043-413e-41ac-aff6-da1ec80965d2"
      },
      "source": [
        "dequedata.appendleft('z')\n",
        "dequedata"
      ],
      "execution_count": 14,
      "outputs": [
        {
          "output_type": "execute_result",
          "data": {
            "text/plain": [
              "deque(['z', 'a', 'b', 'c', 'd', 'e', 'e'])"
            ]
          },
          "metadata": {
            "tags": []
          },
          "execution_count": 14
        }
      ]
    },
    {
      "cell_type": "code",
      "metadata": {
        "id": "UPs_phgjWER9"
      },
      "source": [
        "data1 = ['a', 'b', 'c', 'd']\n",
        "data2 = [1,2,3,4]"
      ],
      "execution_count": 15,
      "outputs": []
    },
    {
      "cell_type": "code",
      "metadata": {
        "id": "NcAbR-GgWWMS"
      },
      "source": [
        "dequedata1 = collections.deque(data1)\n",
        "dequedata1.extend(data2)"
      ],
      "execution_count": 17,
      "outputs": []
    },
    {
      "cell_type": "code",
      "metadata": {
        "colab": {
          "base_uri": "https://localhost:8080/"
        },
        "id": "4rjylty6WdKz",
        "outputId": "455cd79c-81cb-4f75-abe1-b656c02d4598"
      },
      "source": [
        "dequedata1"
      ],
      "execution_count": 18,
      "outputs": [
        {
          "output_type": "execute_result",
          "data": {
            "text/plain": [
              "deque(['a', 'b', 'c', 'd', 1, 2, 3, 4])"
            ]
          },
          "metadata": {
            "tags": []
          },
          "execution_count": 18
        }
      ]
    },
    {
      "cell_type": "code",
      "metadata": {
        "id": "9ConZk-sXI2P"
      },
      "source": [
        "dequedata2 = collections.deque(data1)\n",
        "dequedata2.extendleft(data2)"
      ],
      "execution_count": 21,
      "outputs": []
    },
    {
      "cell_type": "code",
      "metadata": {
        "colab": {
          "base_uri": "https://localhost:8080/"
        },
        "id": "k1Es6uLNXQZR",
        "outputId": "1f9b6080-32a3-41af-e14f-a13849dbfcc5"
      },
      "source": [
        "dequedata2"
      ],
      "execution_count": 22,
      "outputs": [
        {
          "output_type": "execute_result",
          "data": {
            "text/plain": [
              "deque([4, 3, 2, 1, 'a', 'b', 'c', 'd'])"
            ]
          },
          "metadata": {
            "tags": []
          },
          "execution_count": 22
        }
      ]
    },
    {
      "cell_type": "code",
      "metadata": {
        "colab": {
          "base_uri": "https://localhost:8080/"
        },
        "id": "kOmxCn67XhHA",
        "outputId": "291ad91f-023c-4620-ec96-eee024ecc3d4"
      },
      "source": [
        "dequedata2.pop()\n",
        "print(dequedata2)"
      ],
      "execution_count": 23,
      "outputs": [
        {
          "output_type": "stream",
          "text": [
            "deque([4, 3, 2, 1, 'a', 'b', 'c'])\n"
          ],
          "name": "stdout"
        }
      ]
    },
    {
      "cell_type": "code",
      "metadata": {
        "colab": {
          "base_uri": "https://localhost:8080/"
        },
        "id": "X_W1f5MTae9c",
        "outputId": "f89f3a14-97ff-4e3c-bf63-207e5ff53c46"
      },
      "source": [
        "dequedata2.popleft()\n",
        "print(dequedata2)"
      ],
      "execution_count": 24,
      "outputs": [
        {
          "output_type": "stream",
          "text": [
            "deque([3, 2, 1, 'a', 'b', 'c'])\n"
          ],
          "name": "stdout"
        }
      ]
    },
    {
      "cell_type": "code",
      "metadata": {
        "colab": {
          "base_uri": "https://localhost:8080/"
        },
        "id": "fHb4tj6UakLj",
        "outputId": "f8d85154-cecb-482e-ae91-c178138f2fe8"
      },
      "source": [
        "dequedata2.remove('a')\n",
        "print(dequedata2)"
      ],
      "execution_count": 25,
      "outputs": [
        {
          "output_type": "stream",
          "text": [
            "deque([3, 2, 1, 'b', 'c'])\n"
          ],
          "name": "stdout"
        }
      ]
    },
    {
      "cell_type": "code",
      "metadata": {
        "colab": {
          "base_uri": "https://localhost:8080/"
        },
        "id": "LQxgX5FLapct",
        "outputId": "065ec97b-ec4e-4949-a111-64681610c8b6"
      },
      "source": [
        "dequedata2.clear()\n",
        "print(dequedata2)"
      ],
      "execution_count": 26,
      "outputs": [
        {
          "output_type": "stream",
          "text": [
            "deque([])\n"
          ],
          "name": "stdout"
        }
      ]
    },
    {
      "cell_type": "code",
      "metadata": {
        "id": "xikUJX4yas8n"
      },
      "source": [
        "data = ['a','b','c','d','e']\n",
        "dequedata = collections.deque(data)"
      ],
      "execution_count": 27,
      "outputs": []
    },
    {
      "cell_type": "code",
      "metadata": {
        "colab": {
          "base_uri": "https://localhost:8080/"
        },
        "id": "5SxFcGEUblzT",
        "outputId": "74e37238-265d-4a60-86fa-7317912c70bb"
      },
      "source": [
        "dequedata.reverse()\n",
        "print(dequedata)"
      ],
      "execution_count": 28,
      "outputs": [
        {
          "output_type": "stream",
          "text": [
            "deque(['e', 'd', 'c', 'b', 'a'])\n"
          ],
          "name": "stdout"
        }
      ]
    },
    {
      "cell_type": "code",
      "metadata": {
        "colab": {
          "base_uri": "https://localhost:8080/"
        },
        "id": "e0nmPsu1bopC",
        "outputId": "8149416f-ae16-4b4f-920b-541a5552d4fd"
      },
      "source": [
        "#rotate 가장 오른쪽에 있는 원소를 pop하여 appendleft함\n",
        "dequedata.rotate()\n",
        "print(dequedata)"
      ],
      "execution_count": 29,
      "outputs": [
        {
          "output_type": "stream",
          "text": [
            "deque(['a', 'e', 'd', 'c', 'b'])\n"
          ],
          "name": "stdout"
        }
      ]
    },
    {
      "cell_type": "code",
      "metadata": {
        "colab": {
          "base_uri": "https://localhost:8080/"
        },
        "id": "tHipMBYYby8v",
        "outputId": "1291023c-f232-43ad-e59b-50b666f82497"
      },
      "source": [
        "#인자를 넣어주면 그 인자만큼 반복\n",
        "dequedata.rotate(3)\n",
        "print(dequedata)"
      ],
      "execution_count": 30,
      "outputs": [
        {
          "output_type": "stream",
          "text": [
            "deque(['d', 'c', 'b', 'a', 'e'])\n"
          ],
          "name": "stdout"
        }
      ]
    },
    {
      "cell_type": "code",
      "metadata": {
        "id": "4_Wr7j3Gb8xb"
      },
      "source": [
        ""
      ],
      "execution_count": null,
      "outputs": []
    }
  ]
}