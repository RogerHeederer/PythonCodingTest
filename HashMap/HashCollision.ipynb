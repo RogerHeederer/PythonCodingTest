{
  "nbformat": 4,
  "nbformat_minor": 0,
  "metadata": {
    "colab": {
      "name": "HashCollision.ipynb",
      "provenance": []
    },
    "kernelspec": {
      "name": "python3",
      "display_name": "Python 3"
    }
  },
  "cells": [
    {
      "cell_type": "markdown",
      "metadata": {
        "id": "XOKIKH8yCwNu"
      },
      "source": [
        "이번 장은 Hash값이 같아서 충돌이 일어나는 경우 = hash collision에 대해 알아보겠습니다."
      ]
    },
    {
      "cell_type": "code",
      "metadata": {
        "id": "KdIC_jd7Ci3K"
      },
      "source": [
        "class HashTable:\n",
        "    def __init__(self):\n",
        "        self.MAX = 10\n",
        "        self.arr = [None for i in range(self.MAX)]\n",
        "\n",
        "    def get_hash(self, key):\n",
        "        h = 0\n",
        "        for char in key:\n",
        "            h += ord(char)\n",
        "        return h % self.MAX\n",
        "\n",
        "    def __setitem__(self, key, val):\n",
        "      h = self.get_hash(key)\n",
        "      self.arr[h] = val\n",
        "\n",
        "    def __getitem__(self, key):\n",
        "      h = self.get_hash(key)\n",
        "      return self.arr[h]\n",
        "\n",
        "    def __delitem__(self, key):\n",
        "      h = self.get_hash(key)\n",
        "      self.arr[h] = None"
      ],
      "execution_count": 54,
      "outputs": []
    },
    {
      "cell_type": "code",
      "metadata": {
        "colab": {
          "base_uri": "https://localhost:8080/"
        },
        "id": "q5X_VmZuCseO",
        "outputId": "4778214f-60e6-4fc2-8c90-10892cc80f24"
      },
      "source": [
        "t = HashTable()\n",
        "t.get_hash(\"march 6\")"
      ],
      "execution_count": 55,
      "outputs": [
        {
          "output_type": "execute_result",
          "data": {
            "text/plain": [
              "9"
            ]
          },
          "metadata": {
            "tags": []
          },
          "execution_count": 55
        }
      ]
    },
    {
      "cell_type": "code",
      "metadata": {
        "colab": {
          "base_uri": "https://localhost:8080/"
        },
        "id": "O0JTJ2NdC97K",
        "outputId": "a7c4db3a-7d7c-4bfe-da13-059ead149caf"
      },
      "source": [
        "t.get_hash(\"march 17\")"
      ],
      "execution_count": 56,
      "outputs": [
        {
          "output_type": "execute_result",
          "data": {
            "text/plain": [
              "9"
            ]
          },
          "metadata": {
            "tags": []
          },
          "execution_count": 56
        }
      ]
    },
    {
      "cell_type": "code",
      "metadata": {
        "colab": {
          "base_uri": "https://localhost:8080/"
        },
        "id": "PGnMWLP2DAcb",
        "outputId": "d13b9371-5a7b-4fe0-a7e5-8d73f6c6e9e4"
      },
      "source": [
        "t[\"march 6\"] = 120\n",
        "t[\"march 8\"] = 67\n",
        "t[\"march 9\"] = 4\n",
        "t.arr[:20]"
      ],
      "execution_count": 57,
      "outputs": [
        {
          "output_type": "execute_result",
          "data": {
            "text/plain": [
              "[None, 67, 4, None, None, None, None, None, None, 120]"
            ]
          },
          "metadata": {
            "tags": []
          },
          "execution_count": 57
        }
      ]
    },
    {
      "cell_type": "code",
      "metadata": {
        "colab": {
          "base_uri": "https://localhost:8080/"
        },
        "id": "THQpLg3WDV6y",
        "outputId": "defcc2fb-2098-4f49-afc2-9875710fcd63"
      },
      "source": [
        "t[\"march 17\"] = 459\n",
        "t.arr[:20]\n",
        "print(t[\"march 6\"], t[\"march 17\"])"
      ],
      "execution_count": 58,
      "outputs": [
        {
          "output_type": "stream",
          "text": [
            "459 459\n"
          ],
          "name": "stdout"
        }
      ]
    },
    {
      "cell_type": "markdown",
      "metadata": {
        "id": "fp5uxDJjDgZf"
      },
      "source": [
        "같은 hash 인덱스값을 지닌 곳을 건드니까 값이 변해버렸다. 이걸 해시 콜리전이라 부른다. 이런 문제 해결을 위해, chaining, proving 기법을 사용한다"
      ]
    },
    {
      "cell_type": "code",
      "metadata": {
        "colab": {
          "base_uri": "https://localhost:8080/"
        },
        "id": "uD6-LSRTDezF",
        "outputId": "52b61193-9068-463d-e6ca-cdb63aaecc91"
      },
      "source": [
        "print(t[\"march 6\"], t[\"march 17\"])"
      ],
      "execution_count": 59,
      "outputs": [
        {
          "output_type": "stream",
          "text": [
            "459 459\n"
          ],
          "name": "stdout"
        }
      ]
    },
    {
      "cell_type": "code",
      "metadata": {
        "id": "hPh1S1cgD8-m"
      },
      "source": [
        "class HashTableNoCollision:\n",
        "    def __init__(self):\n",
        "        self.MAX = 10\n",
        "        self.arr = [[] for i in range(self.MAX)] # [] for ~~ 리스트로 변경\n",
        "\n",
        "    def get_hash(self, key):\n",
        "        h = 0\n",
        "        for char in key:\n",
        "            h += ord(char)\n",
        "        return h % self.MAX\n",
        "\n",
        "    def __setitem__(self, key, val):\n",
        "      h = self.get_hash(key)\n",
        "      found = False\n",
        "      \n",
        "      # 기존 해시 위치에 값이 있을 경우. Already exists\n",
        "      # ex) arr[9] = [('march 6', 78)]일때, arr[9]에 속한 ('march 6', 78)이 element에 들어간다.\n",
        "      for idx, element in enumerate(self.arr[h]): #arr[9]에 이미 들어간 값이 있을 경우에\n",
        "        if len(element)==2 and element[0] == key: #element가 2개이고, key값이 일치한다면\n",
        "          self.arr[h][idx] = (key, val) #arr[9][0] = ('march 6', 78) 덮어쓰기\n",
        "          found=True\n",
        "          break\n",
        "      if not found: #hash값은 일치하지만, key값이 다르다면, 리스트에 이어 붙여줌\n",
        "          self.arr[h].append((key, val))\n",
        "\n",
        "    def __getitem__(self, key):\n",
        "        h = self.get_hash(key)\n",
        "        for element in self.arr[h]:\n",
        "          if element[0] == key:\n",
        "            return element[1]\n",
        "\n",
        "    def __delitem__(self, key):\n",
        "        h = self.get_hash(key)\n",
        "        for index, element in enumerate(self.arr[h]):\n",
        "            if element[0] == key:\n",
        "                del self.arr[h][index] # [[index=0],[index=1]] 2차원 배열"
      ],
      "execution_count": 105,
      "outputs": []
    },
    {
      "cell_type": "code",
      "metadata": {
        "colab": {
          "base_uri": "https://localhost:8080/"
        },
        "id": "BmVTYiZxGh_U",
        "outputId": "247f2ab5-fe87-4522-bf65-7369bdbdd97d"
      },
      "source": [
        "t2 = HashTableNoCollision()\n",
        "t2.get_hash(\"march 6\")"
      ],
      "execution_count": 106,
      "outputs": [
        {
          "output_type": "execute_result",
          "data": {
            "text/plain": [
              "9"
            ]
          },
          "metadata": {
            "tags": []
          },
          "execution_count": 106
        }
      ]
    },
    {
      "cell_type": "code",
      "metadata": {
        "colab": {
          "base_uri": "https://localhost:8080/"
        },
        "id": "C_Ct6Mt5JjkV",
        "outputId": "b506bb80-2efa-4daa-92c1-6fef29265ed8"
      },
      "source": [
        "t2.get_hash(\"march 17\")"
      ],
      "execution_count": 107,
      "outputs": [
        {
          "output_type": "execute_result",
          "data": {
            "text/plain": [
              "9"
            ]
          },
          "metadata": {
            "tags": []
          },
          "execution_count": 107
        }
      ]
    },
    {
      "cell_type": "code",
      "metadata": {
        "id": "gLSglbaJTF0v"
      },
      "source": [
        "t2 = HashTableNoCollision()"
      ],
      "execution_count": 108,
      "outputs": []
    },
    {
      "cell_type": "code",
      "metadata": {
        "colab": {
          "base_uri": "https://localhost:8080/"
        },
        "id": "zon1ktRsJ1by",
        "outputId": "d74b4d14-ab5a-4e8a-c224-7f372ce921ac"
      },
      "source": [
        "t2[\"march 6\"] = 120\n",
        "t2[\"march 6\"] = 78\n",
        "t2[\"march 17\"] = 24\n",
        "t2['march 13'] = 33\n",
        "print(t2.arr)"
      ],
      "execution_count": 114,
      "outputs": [
        {
          "output_type": "stream",
          "text": [
            "[[], [], [], [], [], [('march 13', 33)], [], [], [], [('march 6', 78), ('march 17', 24)]]\n"
          ],
          "name": "stdout"
        }
      ]
    },
    {
      "cell_type": "code",
      "metadata": {
        "colab": {
          "base_uri": "https://localhost:8080/"
        },
        "id": "2szB0CkgS4qW",
        "outputId": "566ac172-eebf-47a8-f29e-b2a625cd16a7"
      },
      "source": [
        "t2['march 6']"
      ],
      "execution_count": 115,
      "outputs": [
        {
          "output_type": "execute_result",
          "data": {
            "text/plain": [
              "78"
            ]
          },
          "metadata": {
            "tags": []
          },
          "execution_count": 115
        }
      ]
    },
    {
      "cell_type": "code",
      "metadata": {
        "colab": {
          "base_uri": "https://localhost:8080/"
        },
        "id": "0FiKFNo4TMcC",
        "outputId": "2241a4cf-a39c-4902-e0e5-6a5200825ca6"
      },
      "source": [
        "t2['march 17']"
      ],
      "execution_count": 116,
      "outputs": [
        {
          "output_type": "execute_result",
          "data": {
            "text/plain": [
              "24"
            ]
          },
          "metadata": {
            "tags": []
          },
          "execution_count": 116
        }
      ]
    },
    {
      "cell_type": "code",
      "metadata": {
        "id": "6e8WzAhaUPI3"
      },
      "source": [
        "del t2['march 17']"
      ],
      "execution_count": 117,
      "outputs": []
    },
    {
      "cell_type": "code",
      "metadata": {
        "colab": {
          "base_uri": "https://localhost:8080/"
        },
        "id": "diERzhtpWpJV",
        "outputId": "8f2e60ed-a653-4baf-f064-5b5cd6330e63"
      },
      "source": [
        "t2.arr"
      ],
      "execution_count": 118,
      "outputs": [
        {
          "output_type": "execute_result",
          "data": {
            "text/plain": [
              "[[], [], [], [], [], [('march 13', 33)], [], [], [], [('march 6', 78)]]"
            ]
          },
          "metadata": {
            "tags": []
          },
          "execution_count": 118
        }
      ]
    },
    {
      "cell_type": "code",
      "metadata": {
        "id": "c6iZiDUfWt60"
      },
      "source": [
        ""
      ],
      "execution_count": null,
      "outputs": []
    }
  ]
}