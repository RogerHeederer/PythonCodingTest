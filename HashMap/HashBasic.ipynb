{
  "nbformat": 4,
  "nbformat_minor": 0,
  "metadata": {
    "colab": {
      "name": "HashBasic.ipynb",
      "provenance": []
    },
    "kernelspec": {
      "name": "python3",
      "display_name": "Python 3"
    }
  },
  "cells": [
    {
      "cell_type": "markdown",
      "metadata": {
        "id": "PNUy4bqZ_Xpp"
      },
      "source": [
        "코딩 테스트에서 자주 등장하는 hash map에 대한 개념입니다.\n",
        "\n",
        "hash map이 어떻게 동작하는지 실습하며 익혀보세요"
      ]
    },
    {
      "cell_type": "code",
      "metadata": {
        "id": "5mHahXGo7g6M"
      },
      "source": [
        "def get_hash(key):\n",
        "    h = 0\n",
        "    for char in key:\n",
        "        h += ord(char)\n",
        "    return h % 100"
      ],
      "execution_count": 1,
      "outputs": []
    },
    {
      "cell_type": "code",
      "metadata": {
        "colab": {
          "base_uri": "https://localhost:8080/"
        },
        "id": "6k_NE2ad7jMe",
        "outputId": "90844a7c-21a2-4f15-eaff-6dc6b7aef827"
      },
      "source": [
        "print(ord('d')) # ord('a') = 97, ord('b') = 98\n",
        "print(get_hash('d'))"
      ],
      "execution_count": 2,
      "outputs": [
        {
          "output_type": "stream",
          "text": [
            "100\n",
            "0\n"
          ],
          "name": "stdout"
        }
      ]
    },
    {
      "cell_type": "code",
      "metadata": {
        "id": "Hxo3RW__7k5w"
      },
      "source": [
        "class HashTable:\n",
        "    def __init__(self):\n",
        "        self.MAX = 100\n",
        "        self.arr = [None for i in range(self.MAX)]\n",
        "\n",
        "    def get_hash(self, key):\n",
        "        h = 0\n",
        "        for char in key:\n",
        "            h += ord(char)\n",
        "        return h % self.MAX\n",
        "\n",
        "    def add(self, key, val):\n",
        "      h = self.get_hash(key)\n",
        "      self.arr[h] = val\n",
        "\n",
        "    def get(self, key):\n",
        "      h = self.get_hash(key)\n",
        "      return self.arr[h]\n",
        "\n",
        "    def __setitem__(self, key, val):\n",
        "      h = self.get_hash(key)\n",
        "      self.arr[h] = val\n",
        "\n",
        "    def __getitem__(self, key):\n",
        "      h = self.get_hash(key)\n",
        "      return self.arr[h]\n",
        "\n",
        "    def __delitem__(self, key):\n",
        "      h = self.get_hash(key)\n",
        "      self.arr[h] = None"
      ],
      "execution_count": 32,
      "outputs": []
    },
    {
      "cell_type": "code",
      "metadata": {
        "colab": {
          "base_uri": "https://localhost:8080/"
        },
        "id": "iX4fLd1a7mT6",
        "outputId": "319c9925-3f1c-4cd2-c97b-af46e7964944"
      },
      "source": [
        "t = HashTable()\n",
        "print(t.get_hash('march 6'))"
      ],
      "execution_count": 33,
      "outputs": [
        {
          "output_type": "stream",
          "text": [
            "9\n"
          ],
          "name": "stdout"
        }
      ]
    },
    {
      "cell_type": "code",
      "metadata": {
        "id": "wPs6S2eR7sd1"
      },
      "source": [
        "t.add('march 6', 130) #'march 6'텍스트로 hash값을 만들고, 그 hash값이 val(130)의 인덱스가 되는 것"
      ],
      "execution_count": 34,
      "outputs": []
    },
    {
      "cell_type": "code",
      "metadata": {
        "colab": {
          "base_uri": "https://localhost:8080/"
        },
        "id": "1bHChimj8UzL",
        "outputId": "2321768d-0173-4b18-9791-cbd53bd1d779"
      },
      "source": [
        "t.arr[:20]"
      ],
      "execution_count": 35,
      "outputs": [
        {
          "output_type": "execute_result",
          "data": {
            "text/plain": [
              "[None,\n",
              " None,\n",
              " None,\n",
              " None,\n",
              " None,\n",
              " None,\n",
              " None,\n",
              " None,\n",
              " None,\n",
              " 130,\n",
              " None,\n",
              " None,\n",
              " None,\n",
              " None,\n",
              " None,\n",
              " None,\n",
              " None,\n",
              " None,\n",
              " None,\n",
              " None]"
            ]
          },
          "metadata": {
            "tags": []
          },
          "execution_count": 35
        }
      ]
    },
    {
      "cell_type": "code",
      "metadata": {
        "colab": {
          "base_uri": "https://localhost:8080/"
        },
        "id": "YIaP22BG801V",
        "outputId": "86bea33a-b439-4d64-9d52-e5ab5d341759"
      },
      "source": [
        "t.get('march 6')"
      ],
      "execution_count": 36,
      "outputs": [
        {
          "output_type": "execute_result",
          "data": {
            "text/plain": [
              "130"
            ]
          },
          "metadata": {
            "tags": []
          },
          "execution_count": 36
        }
      ]
    },
    {
      "cell_type": "code",
      "metadata": {
        "id": "5mxbt7uX9L2i"
      },
      "source": [
        "t['march 7'] = 120\n",
        "t['march 1'] = 30"
      ],
      "execution_count": 37,
      "outputs": []
    },
    {
      "cell_type": "code",
      "metadata": {
        "colab": {
          "base_uri": "https://localhost:8080/"
        },
        "id": "5Tsf9eq8-kTm",
        "outputId": "ca4a53b1-48cf-41b4-b7c8-8f76322d4965"
      },
      "source": [
        "t.arr[:20]"
      ],
      "execution_count": 38,
      "outputs": [
        {
          "output_type": "execute_result",
          "data": {
            "text/plain": [
              "[None,\n",
              " None,\n",
              " None,\n",
              " None,\n",
              " 30,\n",
              " None,\n",
              " None,\n",
              " None,\n",
              " None,\n",
              " 130,\n",
              " 120,\n",
              " None,\n",
              " None,\n",
              " None,\n",
              " None,\n",
              " None,\n",
              " None,\n",
              " None,\n",
              " None,\n",
              " None]"
            ]
          },
          "metadata": {
            "tags": []
          },
          "execution_count": 38
        }
      ]
    },
    {
      "cell_type": "code",
      "metadata": {
        "colab": {
          "base_uri": "https://localhost:8080/"
        },
        "id": "wbG6eIJn-q8y",
        "outputId": "1a9019ef-3bdb-4a71-bbce-33c14f906e30"
      },
      "source": [
        "del t['march 1']\n",
        "t.arr[:20]"
      ],
      "execution_count": 39,
      "outputs": [
        {
          "output_type": "execute_result",
          "data": {
            "text/plain": [
              "[None,\n",
              " None,\n",
              " None,\n",
              " None,\n",
              " None,\n",
              " None,\n",
              " None,\n",
              " None,\n",
              " None,\n",
              " 130,\n",
              " 120,\n",
              " None,\n",
              " None,\n",
              " None,\n",
              " None,\n",
              " None,\n",
              " None,\n",
              " None,\n",
              " None,\n",
              " None]"
            ]
          },
          "metadata": {
            "tags": []
          },
          "execution_count": 39
        }
      ]
    },
    {
      "cell_type": "code",
      "metadata": {
        "id": "RVaDNxyV_TTD"
      },
      "source": [
        ""
      ],
      "execution_count": null,
      "outputs": []
    }
  ]
}