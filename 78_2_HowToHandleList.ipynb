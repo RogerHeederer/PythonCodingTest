{
  "nbformat": 4,
  "nbformat_minor": 0,
  "metadata": {
    "colab": {
      "name": "78_2_HowToHandleList.ipynb",
      "provenance": []
    },
    "kernelspec": {
      "name": "python3",
      "display_name": "Python 3"
    }
  },
  "cells": [
    {
      "cell_type": "markdown",
      "metadata": {
        "id": "w6tZGCS9k-jo"
      },
      "source": [
        "이번 장에서는 쉽기도 하고, 어렵기도 한? 리스트를 여러 스킬로 다뤄보는 방법에 대해 알아보자\n",
        "\n",
        "** 리스트 append와 +- 오퍼레이션의 미묘한 역할 차이 **"
      ]
    },
    {
      "cell_type": "code",
      "metadata": {
        "id": "YxV-jpYck0_I"
      },
      "source": [
        "nums = [1,2,3]"
      ],
      "execution_count": null,
      "outputs": []
    },
    {
      "cell_type": "code",
      "metadata": {
        "colab": {
          "base_uri": "https://localhost:8080/"
        },
        "id": "MzsU5zDnlRp6",
        "outputId": "06013760-c952-46c4-fec5-527123e1509c"
      },
      "source": [
        "output = []\n",
        "for i in nums:\n",
        "  output += [i]\n",
        "print(output)"
      ],
      "execution_count": null,
      "outputs": [
        {
          "output_type": "stream",
          "text": [
            "[1, 2, 3]\n"
          ],
          "name": "stdout"
        }
      ]
    },
    {
      "cell_type": "code",
      "metadata": {
        "colab": {
          "base_uri": "https://localhost:8080/"
        },
        "id": "QrJlvzbBldRd",
        "outputId": "1fcd43b6-eaf5-4e8a-ea54-a185ee78d1fb"
      },
      "source": [
        "output = []\n",
        "for i in nums:\n",
        "  output.append(i)\n",
        "print(output)"
      ],
      "execution_count": null,
      "outputs": [
        {
          "output_type": "stream",
          "text": [
            "[1, 2, 3]\n"
          ],
          "name": "stdout"
        }
      ]
    },
    {
      "cell_type": "code",
      "metadata": {
        "colab": {
          "base_uri": "https://localhost:8080/",
          "height": 215
        },
        "id": "MGSl1qQwlh34",
        "outputId": "225a7c60-eeda-4af4-99f2-338a13610872"
      },
      "source": [
        "# [] 리스트 안에 not iterable 성격의 int가 들어갈 수 없음\n",
        "output = []\n",
        "for i in nums:\n",
        "  output += i\n",
        "print(output)"
      ],
      "execution_count": null,
      "outputs": [
        {
          "output_type": "error",
          "ename": "TypeError",
          "evalue": "ignored",
          "traceback": [
            "\u001b[0;31m---------------------------------------------------------------------------\u001b[0m",
            "\u001b[0;31mTypeError\u001b[0m                                 Traceback (most recent call last)",
            "\u001b[0;32m<ipython-input-4-6752bbc08360>\u001b[0m in \u001b[0;36m<module>\u001b[0;34m()\u001b[0m\n\u001b[1;32m      1\u001b[0m \u001b[0moutput\u001b[0m \u001b[0;34m=\u001b[0m \u001b[0;34m[\u001b[0m\u001b[0;34m]\u001b[0m\u001b[0;34m\u001b[0m\u001b[0;34m\u001b[0m\u001b[0m\n\u001b[1;32m      2\u001b[0m \u001b[0;32mfor\u001b[0m \u001b[0mi\u001b[0m \u001b[0;32min\u001b[0m \u001b[0mnums\u001b[0m\u001b[0;34m:\u001b[0m\u001b[0;34m\u001b[0m\u001b[0;34m\u001b[0m\u001b[0m\n\u001b[0;32m----> 3\u001b[0;31m   \u001b[0moutput\u001b[0m \u001b[0;34m+=\u001b[0m \u001b[0mi\u001b[0m\u001b[0;34m\u001b[0m\u001b[0;34m\u001b[0m\u001b[0m\n\u001b[0m\u001b[1;32m      4\u001b[0m \u001b[0mprint\u001b[0m\u001b[0;34m(\u001b[0m\u001b[0moutput\u001b[0m\u001b[0;34m)\u001b[0m\u001b[0;34m\u001b[0m\u001b[0;34m\u001b[0m\u001b[0m\n",
            "\u001b[0;31mTypeError\u001b[0m: 'int' object is not iterable"
          ]
        }
      ]
    },
    {
      "cell_type": "code",
      "metadata": {
        "colab": {
          "base_uri": "https://localhost:8080/"
        },
        "id": "0D7g1B7WlkaT",
        "outputId": "276acfb6-02be-43b5-b314-33cec9995c57"
      },
      "source": [
        "output = []\n",
        "for i in nums:\n",
        "  output += str(i)\n",
        "print(output)"
      ],
      "execution_count": null,
      "outputs": [
        {
          "output_type": "stream",
          "text": [
            "['1', '2', '3']\n"
          ],
          "name": "stdout"
        }
      ]
    },
    {
      "cell_type": "markdown",
      "metadata": {
        "id": "1cYMa6lXmYp5"
      },
      "source": [
        "2차원 리스트 [[]]"
      ]
    },
    {
      "cell_type": "code",
      "metadata": {
        "colab": {
          "base_uri": "https://localhost:8080/"
        },
        "id": "jKJrObK2l6EF",
        "outputId": "968208bd-c88b-4253-9c45-2f4bbaa305c6"
      },
      "source": [
        "output = [[]]\n",
        "for i in nums:\n",
        "  output.append(i)\n",
        "print(output)"
      ],
      "execution_count": null,
      "outputs": [
        {
          "output_type": "stream",
          "text": [
            "[[], 1, 2, 3]\n"
          ],
          "name": "stdout"
        }
      ]
    },
    {
      "cell_type": "code",
      "metadata": {
        "colab": {
          "base_uri": "https://localhost:8080/"
        },
        "id": "Q0L_w2-InzRw",
        "outputId": "d2ec591f-3d4e-49fc-ea3f-55043babdce4"
      },
      "source": [
        "output = [[]]\n",
        "for i in nums:\n",
        "  output += str(i)\n",
        "print(output)"
      ],
      "execution_count": null,
      "outputs": [
        {
          "output_type": "stream",
          "text": [
            "[[], '1', '2', '3']\n"
          ],
          "name": "stdout"
        }
      ]
    },
    {
      "cell_type": "markdown",
      "metadata": {
        "id": "pOs_PKvmoKCa"
      },
      "source": [
        "##여기서 차이점 발생\n",
        "\n",
        "1차원 리스트에서는 아래 두 구문의 결과가 같았지만,\n",
        "\n",
        "2차원 리스트에서는 append와 +-에 따라 결과가 달라진다"
      ]
    },
    {
      "cell_type": "code",
      "metadata": {
        "colab": {
          "base_uri": "https://localhost:8080/"
        },
        "id": "z4PGxKEjn_Dg",
        "outputId": "24de5d66-d1f8-473c-c793-5dfb1afff353"
      },
      "source": [
        "output = [[]]\n",
        "for i in nums:\n",
        "  output.append([i])\n",
        "print(output) # row : 4 / col : 1"
      ],
      "execution_count": null,
      "outputs": [
        {
          "output_type": "stream",
          "text": [
            "[[], [1], [2], [3]]\n"
          ],
          "name": "stdout"
        }
      ]
    },
    {
      "cell_type": "code",
      "metadata": {
        "colab": {
          "base_uri": "https://localhost:8080/"
        },
        "id": "CHaOIsUYoDiD",
        "outputId": "be33b42c-b74e-4265-ecca-fce5bd489b2b"
      },
      "source": [
        "output = [[]]\n",
        "for i in nums:\n",
        "  output += [i]\n",
        "print(output) # 이건 1차원 리스트임"
      ],
      "execution_count": null,
      "outputs": [
        {
          "output_type": "stream",
          "text": [
            "[[], 1, 2, 3]\n"
          ],
          "name": "stdout"
        }
      ]
    },
    {
      "cell_type": "code",
      "metadata": {
        "colab": {
          "base_uri": "https://localhost:8080/"
        },
        "id": "XaegSf-XoGXr",
        "outputId": "d27407f4-a30e-4dd7-cf33-2dcbc73ef367"
      },
      "source": [
        "output = [[]]\n",
        "for i in nums:\n",
        "    output.append([[i]])\n",
        "print(output) "
      ],
      "execution_count": null,
      "outputs": [
        {
          "output_type": "stream",
          "text": [
            "[[], [[1]], [[2]], [[3]]]\n"
          ],
          "name": "stdout"
        }
      ]
    },
    {
      "cell_type": "code",
      "metadata": {
        "colab": {
          "base_uri": "https://localhost:8080/"
        },
        "id": "0ruVoRLRoqc7",
        "outputId": "071ac3b2-a23f-44f6-9c98-e7b5223c1e2d"
      },
      "source": [
        "output = [[]]\n",
        "for i in nums:\n",
        "    output += [[i]]\n",
        "print(output) "
      ],
      "execution_count": null,
      "outputs": [
        {
          "output_type": "stream",
          "text": [
            "[[], [1], [2], [3]]\n"
          ],
          "name": "stdout"
        }
      ]
    },
    {
      "cell_type": "markdown",
      "metadata": {
        "id": "-oWS4gNro8RT"
      },
      "source": [
        "##리스트의 덧셈 연산"
      ]
    },
    {
      "cell_type": "code",
      "metadata": {
        "colab": {
          "base_uri": "https://localhost:8080/"
        },
        "id": "ZCJX_1xZo3Uj",
        "outputId": "ddde43a7-33d0-4f6f-f72c-42a5aa98b1f3"
      },
      "source": [
        "print([] + [2])"
      ],
      "execution_count": null,
      "outputs": [
        {
          "output_type": "stream",
          "text": [
            "[2]\n"
          ],
          "name": "stdout"
        }
      ]
    },
    {
      "cell_type": "code",
      "metadata": {
        "colab": {
          "base_uri": "https://localhost:8080/"
        },
        "id": "yHlIKkd_pBj7",
        "outputId": "74d507d2-1471-46da-c030-da823c4e98d9"
      },
      "source": [
        "print([2]+[1])"
      ],
      "execution_count": null,
      "outputs": [
        {
          "output_type": "stream",
          "text": [
            "[2, 1]\n"
          ],
          "name": "stdout"
        }
      ]
    },
    {
      "cell_type": "code",
      "metadata": {
        "colab": {
          "base_uri": "https://localhost:8080/"
        },
        "id": "ELqwCnWupDfr",
        "outputId": "87238466-d3f3-46b0-a45f-8966e102079e"
      },
      "source": [
        "print([2]*10) #이렇게 생각할 수도 있음 -> 착각하기 쉬운 요소 [ [2],[2],[2].....[2] ]"
      ],
      "execution_count": null,
      "outputs": [
        {
          "output_type": "stream",
          "text": [
            "[2, 2, 2, 2, 2, 2, 2, 2, 2, 2]\n"
          ],
          "name": "stdout"
        }
      ]
    },
    {
      "cell_type": "markdown",
      "metadata": {
        "id": "h8yT1I5PpXEF"
      },
      "source": [
        "##리스트 나열"
      ]
    },
    {
      "cell_type": "code",
      "metadata": {
        "id": "-0ezi67LpGEC",
        "colab": {
          "base_uri": "https://localhost:8080/"
        },
        "outputId": "c0007115-c26c-4c3b-8cac-2e694571b780"
      },
      "source": [
        "arr = [1,2,3,4,5,6,7]\n",
        "\n",
        "print(arr[::])"
      ],
      "execution_count": 21,
      "outputs": [
        {
          "output_type": "stream",
          "text": [
            "[1, 2, 3, 4, 5, 6, 7]\n"
          ],
          "name": "stdout"
        }
      ]
    },
    {
      "cell_type": "code",
      "metadata": {
        "colab": {
          "base_uri": "https://localhost:8080/"
        },
        "id": "UapImw3NpwWy",
        "outputId": "75029be8-976e-4511-eb67-c0ba40c1547b"
      },
      "source": [
        "print(arr[::1])"
      ],
      "execution_count": 22,
      "outputs": [
        {
          "output_type": "stream",
          "text": [
            "[1, 2, 3, 4, 5, 6, 7]\n"
          ],
          "name": "stdout"
        }
      ]
    },
    {
      "cell_type": "code",
      "metadata": {
        "colab": {
          "base_uri": "https://localhost:8080/"
        },
        "id": "YKnvWq8VpzNC",
        "outputId": "ba86ae13-fdb5-418c-af5a-9f0207c06b63"
      },
      "source": [
        "print(arr[::2])"
      ],
      "execution_count": 23,
      "outputs": [
        {
          "output_type": "stream",
          "text": [
            "[1, 3, 5, 7]\n"
          ],
          "name": "stdout"
        }
      ]
    },
    {
      "cell_type": "code",
      "metadata": {
        "colab": {
          "base_uri": "https://localhost:8080/"
        },
        "id": "xV9A7kaKp0j6",
        "outputId": "61b1619d-e686-4fcd-848a-46f4f902070c"
      },
      "source": [
        "print(arr[::3])"
      ],
      "execution_count": 25,
      "outputs": [
        {
          "output_type": "stream",
          "text": [
            "[1, 4, 7]\n"
          ],
          "name": "stdout"
        }
      ]
    },
    {
      "cell_type": "code",
      "metadata": {
        "colab": {
          "base_uri": "https://localhost:8080/"
        },
        "id": "BypaOOAEp12d",
        "outputId": "2f9cd4d4-80be-484d-bbf4-20332605d240"
      },
      "source": [
        "print(arr[::-1])"
      ],
      "execution_count": 26,
      "outputs": [
        {
          "output_type": "stream",
          "text": [
            "[7, 6, 5, 4, 3, 2, 1]\n"
          ],
          "name": "stdout"
        }
      ]
    },
    {
      "cell_type": "code",
      "metadata": {
        "colab": {
          "base_uri": "https://localhost:8080/"
        },
        "id": "grf2A7Dkp33X",
        "outputId": "783c050f-7f37-4b59-aa33-af6e30939b7e"
      },
      "source": [
        "print(arr[::-2])"
      ],
      "execution_count": 27,
      "outputs": [
        {
          "output_type": "stream",
          "text": [
            "[7, 5, 3, 1]\n"
          ],
          "name": "stdout"
        }
      ]
    },
    {
      "cell_type": "code",
      "metadata": {
        "colab": {
          "base_uri": "https://localhost:8080/"
        },
        "id": "CHD5A8xzp4_X",
        "outputId": "b9c246f6-e98c-4d85-8b5e-91c91e726c11"
      },
      "source": [
        "print(arr[::-3])"
      ],
      "execution_count": 28,
      "outputs": [
        {
          "output_type": "stream",
          "text": [
            "[7, 4, 1]\n"
          ],
          "name": "stdout"
        }
      ]
    }
  ]
}